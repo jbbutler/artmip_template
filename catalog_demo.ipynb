{
 "cells": [
  {
   "cell_type": "markdown",
   "id": "894c0b98-788a-43aa-80b8-c69f7d999f99",
   "metadata": {},
   "source": [
    "# Catalog Demo\n",
    "\n",
    "\n",
    "Demo the use of your catalog here! You may want to include some subset of your catalog in the repo, and call it up here!"
   ]
  },
  {
   "cell_type": "code",
   "execution_count": 1,
   "id": "afebdd7b-42e6-4f0a-990f-09febd00e3f0",
   "metadata": {},
   "outputs": [],
   "source": [
    "# example code with output\n",
    "import numpy as np\n",
    "np.random"
   ]
  },
  {
   "cell_type": "code",
   "execution_count": null,
   "id": "173e7001-507d-4c9a-baf3-674fdabc7ddc",
   "metadata": {},
   "outputs": [],
   "source": []
  }
 ],
 "metadata": {
  "kernelspec": {
   "display_name": "Python 3 (ipykernel)",
   "language": "python",
   "name": "python3"
  },
  "language_info": {
   "codemirror_mode": {
    "name": "ipython",
    "version": 3
   },
   "file_extension": ".py",
   "mimetype": "text/x-python",
   "name": "python",
   "nbconvert_exporter": "python",
   "pygments_lexer": "ipython3",
   "version": "3.11.9"
  }
 },
 "nbformat": 4,
 "nbformat_minor": 5
}
